{
 "cells": [
  {
   "cell_type": "code",
   "execution_count": 1,
   "id": "b046ead5",
   "metadata": {},
   "outputs": [],
   "source": [
    "'''\n",
    "This is a simple project that use logistic regression to find lead_score of customsers\n",
    "\n",
    "Notes: \n",
    "- The debt-to-income (DTI) ratio measures the amount of \n",
    "income a person or organization generates in order to service a debt.\n",
    "\n",
    "- A DTI of 43% is typically the highest ratio a borrower can have and \n",
    "still get qualified for a mortgage, but lenders generally seek ratios of no more than 36%.1\n",
    "\n",
    "- A low DTI ratio indicates sufficient income relative to debt servicing, and it makes \n",
    "a borrower more attractive.\n",
    "\n",
    "'''\n",
    "\n",
    "\n",
    "import pandas as pd\n",
    "import numpy as np\n",
    "import time\n",
    "import datetime\n",
    "import matplotlib.pyplot as plt\n",
    "import tqdm\n",
    "import math\n",
    "import os\n",
    "import xgboost\n",
    "import seaborn as sns\n",
    "import warnings\n",
    "warnings.filterwarnings(action='ignore')\n",
    "import matplotlib.lines as mlines\n",
    "import matplotlib.transforms as mtransforms\n",
    "\n",
    "from sklearn import metrics\n",
    "from sklearn.cluster import KMeans\n",
    "from sklearn.datasets import load_digits\n",
    "from sklearn.preprocessing import StandardScaler\n",
    "from sklearn.pipeline import make_pipeline\n",
    "from sklearn.linear_model import LinearRegression\n",
    "from sklearn.model_selection import GridSearchCV, KFold\n",
    "from sklearn.metrics import r2_score\n",
    "from sklearn import preprocessing\n",
    "from sklearn.model_selection import train_test_split\n",
    "from sklearn.linear_model import LogisticRegression\n",
    "from sklearn.svm import SVC\n",
    "from sklearn.tree import DecisionTreeClassifier\n",
    "from sklearn.neighbors import KNeighborsClassifier\n",
    "\n",
    "\n",
    "\n",
    "%matplotlib inline\n",
    "# print(os.getcwd())\n",
    "# os.listdir()"
   ]
  },
  {
   "cell_type": "code",
   "execution_count": 3,
   "id": "dd324030",
   "metadata": {},
   "outputs": [
    {
     "name": "stdout",
     "output_type": "stream",
     "text": [
      "C:\\Users\\fenix\\Downloads\\Past\\DSHomework-LeadScoring\n"
     ]
    }
   ],
   "source": [
    "%cd \"C:\\Users\\fenix\\Downloads\\Past\\DSHomework-LeadScoring\"\n"
   ]
  },
  {
   "cell_type": "code",
   "execution_count": 4,
   "id": "a5d32c5b",
   "metadata": {},
   "outputs": [
    {
     "data": {
      "text/plain": [
       "(125322, 14)"
      ]
     },
     "execution_count": 4,
     "metadata": {},
     "output_type": "execute_result"
    }
   ],
   "source": [
    "df_raw = pd.read_csv('lead_scoring_homework.csv')\n",
    "df_raw.shape"
   ]
  },
  {
   "cell_type": "code",
   "execution_count": 5,
   "id": "689a0b13",
   "metadata": {
    "scrolled": true
   },
   "outputs": [
    {
     "data": {
      "text/html": [
       "<div>\n",
       "<style scoped>\n",
       "    .dataframe tbody tr th:only-of-type {\n",
       "        vertical-align: middle;\n",
       "    }\n",
       "\n",
       "    .dataframe tbody tr th {\n",
       "        vertical-align: top;\n",
       "    }\n",
       "\n",
       "    .dataframe thead th {\n",
       "        text-align: right;\n",
       "    }\n",
       "</style>\n",
       "<table border=\"1\" class=\"dataframe\">\n",
       "  <thead>\n",
       "    <tr style=\"text-align: right;\">\n",
       "      <th></th>\n",
       "      <th>lead_id</th>\n",
       "      <th>funded</th>\n",
       "      <th>created_datetime</th>\n",
       "      <th>assignment_datetime</th>\n",
       "      <th>loan_to_income</th>\n",
       "      <th>co_app_income</th>\n",
       "      <th>job_status</th>\n",
       "      <th>fico_score</th>\n",
       "      <th>loan_amount</th>\n",
       "      <th>loan_use</th>\n",
       "      <th>ndi_ratio</th>\n",
       "      <th>lead_source</th>\n",
       "      <th>open_accounts</th>\n",
       "      <th>clicked_offer</th>\n",
       "    </tr>\n",
       "  </thead>\n",
       "  <tbody>\n",
       "    <tr>\n",
       "      <th>0</th>\n",
       "      <td>7599355</td>\n",
       "      <td>0</td>\n",
       "      <td>2021-09-11 17:42:44+00:00</td>\n",
       "      <td>2021-09-11 17:48:47+00:00</td>\n",
       "      <td>24.621212</td>\n",
       "      <td>0.0</td>\n",
       "      <td>Part-Time</td>\n",
       "      <td>668</td>\n",
       "      <td>32500</td>\n",
       "      <td>Debt Consolidation</td>\n",
       "      <td>0.232132</td>\n",
       "      <td>0</td>\n",
       "      <td>8</td>\n",
       "      <td>0</td>\n",
       "    </tr>\n",
       "    <tr>\n",
       "      <th>1</th>\n",
       "      <td>7600116</td>\n",
       "      <td>0</td>\n",
       "      <td>2021-09-11 21:57:35+00:00</td>\n",
       "      <td>2021-09-12 07:59:24+00:00</td>\n",
       "      <td>20.000000</td>\n",
       "      <td>0.0</td>\n",
       "      <td>Not Employed</td>\n",
       "      <td>792</td>\n",
       "      <td>40000</td>\n",
       "      <td>Other</td>\n",
       "      <td>0.146557</td>\n",
       "      <td>0</td>\n",
       "      <td>6</td>\n",
       "      <td>0</td>\n",
       "    </tr>\n",
       "    <tr>\n",
       "      <th>2</th>\n",
       "      <td>7599525</td>\n",
       "      <td>0</td>\n",
       "      <td>2021-09-11 18:29:20+00:00</td>\n",
       "      <td>2021-09-12 07:32:12+00:00</td>\n",
       "      <td>27.272727</td>\n",
       "      <td>0.0</td>\n",
       "      <td>Full-Time</td>\n",
       "      <td>755</td>\n",
       "      <td>30000</td>\n",
       "      <td>Home Improvement</td>\n",
       "      <td>0.510868</td>\n",
       "      <td>0</td>\n",
       "      <td>5</td>\n",
       "      <td>0</td>\n",
       "    </tr>\n",
       "    <tr>\n",
       "      <th>3</th>\n",
       "      <td>7599699</td>\n",
       "      <td>0</td>\n",
       "      <td>2021-09-11 19:24:46+00:00</td>\n",
       "      <td>2021-09-12 08:44:09+00:00</td>\n",
       "      <td>34.965035</td>\n",
       "      <td>0.0</td>\n",
       "      <td>Full-Time</td>\n",
       "      <td>677</td>\n",
       "      <td>20000</td>\n",
       "      <td>Debt Consolidation</td>\n",
       "      <td>0.457189</td>\n",
       "      <td>0</td>\n",
       "      <td>7</td>\n",
       "      <td>0</td>\n",
       "    </tr>\n",
       "    <tr>\n",
       "      <th>4</th>\n",
       "      <td>7599570</td>\n",
       "      <td>0</td>\n",
       "      <td>2021-09-11 18:40:24+00:00</td>\n",
       "      <td>2021-09-12 15:42:48+00:00</td>\n",
       "      <td>18.666667</td>\n",
       "      <td>0.0</td>\n",
       "      <td>Self-Employed</td>\n",
       "      <td>691</td>\n",
       "      <td>14000</td>\n",
       "      <td>Other</td>\n",
       "      <td>0.470130</td>\n",
       "      <td>0</td>\n",
       "      <td>3</td>\n",
       "      <td>0</td>\n",
       "    </tr>\n",
       "  </tbody>\n",
       "</table>\n",
       "</div>"
      ],
      "text/plain": [
       "   lead_id  funded           created_datetime        assignment_datetime  \\\n",
       "0  7599355       0  2021-09-11 17:42:44+00:00  2021-09-11 17:48:47+00:00   \n",
       "1  7600116       0  2021-09-11 21:57:35+00:00  2021-09-12 07:59:24+00:00   \n",
       "2  7599525       0  2021-09-11 18:29:20+00:00  2021-09-12 07:32:12+00:00   \n",
       "3  7599699       0  2021-09-11 19:24:46+00:00  2021-09-12 08:44:09+00:00   \n",
       "4  7599570       0  2021-09-11 18:40:24+00:00  2021-09-12 15:42:48+00:00   \n",
       "\n",
       "   loan_to_income  co_app_income     job_status  fico_score  loan_amount  \\\n",
       "0       24.621212            0.0      Part-Time         668        32500   \n",
       "1       20.000000            0.0   Not Employed         792        40000   \n",
       "2       27.272727            0.0      Full-Time         755        30000   \n",
       "3       34.965035            0.0      Full-Time         677        20000   \n",
       "4       18.666667            0.0  Self-Employed         691        14000   \n",
       "\n",
       "             loan_use  ndi_ratio  lead_source  open_accounts  clicked_offer  \n",
       "0  Debt Consolidation   0.232132            0              8              0  \n",
       "1               Other   0.146557            0              6              0  \n",
       "2    Home Improvement   0.510868            0              5              0  \n",
       "3  Debt Consolidation   0.457189            0              7              0  \n",
       "4               Other   0.470130            0              3              0  "
      ]
     },
     "execution_count": 5,
     "metadata": {},
     "output_type": "execute_result"
    }
   ],
   "source": [
    "df_raw.head()"
   ]
  },
  {
   "cell_type": "markdown",
   "id": "3bd119b4",
   "metadata": {},
   "source": [
    "### Feature Engineering"
   ]
  },
  {
   "cell_type": "code",
   "execution_count": 6,
   "id": "fdaaa15e",
   "metadata": {},
   "outputs": [],
   "source": [
    "\n",
    "# get the age of the lead, defiend by assginment_time - created_time\n",
    "# idea is to break the lead_age into 5 buckets, very_short, short, medium, long, very long\n",
    "# they will be marked as 1,2,3,4,5\n",
    "\n",
    "df_raw['created_datetime'] = pd.to_datetime(df_raw['created_datetime'] )\n",
    "df_raw['assignment_datetime'] = pd.to_datetime(df_raw['assignment_datetime'] )\n",
    "df_raw['lead_age'] = df_raw['assignment_datetime'] - df_raw['created_datetime']\n",
    "df_raw['lead_age_seconds'] = df_raw['lead_age'].dt.total_seconds()\n",
    "\n",
    "\n",
    "quantile_20 = df_raw['lead_age_seconds'].quantile(q=0.20)\n",
    "quantile_40 = df_raw['lead_age_seconds'].quantile(q=0.40)\n",
    "quantile_60 = df_raw['lead_age_seconds'].quantile(q=0.60)\n",
    "quantile_80 = df_raw['lead_age_seconds'].quantile(q=0.80)\n",
    "\n",
    "for i in range(df_raw.shape[0]):\n",
    "    if df_raw.loc[i,'lead_age_seconds'] <= quantile_20 and df_raw.loc[i,'lead_age_seconds'] > 0:\n",
    "        df_raw.loc[i,'lead_age_class'] = 1\n",
    "    elif df_raw.loc[i,'lead_age_seconds'] > quantile_20 and df_raw.loc[i,'lead_age_seconds'] <= quantile_40:\n",
    "        df_raw.loc[i,'lead_age_class'] = 2\n",
    "    elif  df_raw.loc[i,'lead_age_seconds'] > quantile_40 and df_raw.loc[i,'lead_age_seconds'] <= quantile_60:\n",
    "        df_raw.loc[i,'lead_age_class'] = 3\n",
    "    elif  df_raw.loc[i,'lead_age_seconds'] > quantile_60 and df_raw.loc[i,'lead_age_seconds'] <= quantile_80:\n",
    "        df_raw.loc[i,'lead_age_class'] = 4    \n",
    "    else:\n",
    "        df_raw.loc[i,'lead_age_class'] = 5\n",
    "\n",
    "# df_raw\n",
    "df_raw['lead_age_class'] = df_raw['lead_age_class'].astype(int)"
   ]
  },
  {
   "cell_type": "code",
   "execution_count": 9,
   "id": "f6f2d504",
   "metadata": {},
   "outputs": [],
   "source": [
    "# get the one hot coding for job_staus\n",
    "# pd.get_dummies(df_raw['job_status'], prefix='job_status')\n",
    "\n",
    "df_raw = pd.concat([df_raw, pd.get_dummies(df_raw['job_status'], prefix='job_status')],axis=1)\n",
    "df_raw = pd.concat([df_raw, pd.get_dummies(df_raw['loan_use'], prefix='loan_use')],axis=1)"
   ]
  },
  {
   "cell_type": "code",
   "execution_count": 10,
   "id": "ab8b8dba",
   "metadata": {},
   "outputs": [],
   "source": [
    "df_raw.to_csv('test.csv')"
   ]
  },
  {
   "cell_type": "markdown",
   "id": "04a8ad39",
   "metadata": {},
   "source": [
    "### Define the features and targets"
   ]
  },
  {
   "cell_type": "code",
   "execution_count": 12,
   "id": "70b82cef",
   "metadata": {
    "scrolled": true
   },
   "outputs": [
    {
     "name": "stdout",
     "output_type": "stream",
     "text": [
      "<class 'pandas.core.frame.DataFrame'>\n",
      "RangeIndex: 125322 entries, 0 to 125321\n",
      "Data columns (total 39 columns):\n",
      " #   Column                            Non-Null Count   Dtype              \n",
      "---  ------                            --------------   -----              \n",
      " 0   lead_id                           125322 non-null  int64              \n",
      " 1   funded                            125322 non-null  int64              \n",
      " 2   created_datetime                  125322 non-null  datetime64[ns, UTC]\n",
      " 3   assignment_datetime               125322 non-null  datetime64[ns, UTC]\n",
      " 4   loan_to_income                    125322 non-null  float64            \n",
      " 5   co_app_income                     125322 non-null  float64            \n",
      " 6   job_status                        125322 non-null  object             \n",
      " 7   fico_score                        125322 non-null  int64              \n",
      " 8   loan_amount                       125322 non-null  int64              \n",
      " 9   loan_use                          125322 non-null  object             \n",
      " 10  ndi_ratio                         125322 non-null  float64            \n",
      " 11  lead_source                       125322 non-null  int64              \n",
      " 12  open_accounts                     125322 non-null  int64              \n",
      " 13  clicked_offer                     125322 non-null  int64              \n",
      " 14  lead_age                          125322 non-null  timedelta64[ns]    \n",
      " 15  lead_age_seconds                  125322 non-null  float64            \n",
      " 16  lead_age_class                    125322 non-null  int32              \n",
      " 17  job_status_Full-Time              125322 non-null  uint8              \n",
      " 18  job_status_Not Employed           125322 non-null  uint8              \n",
      " 19  job_status_Other                  125322 non-null  uint8              \n",
      " 20  job_status_Part-Time              125322 non-null  uint8              \n",
      " 21  job_status_Retired                125322 non-null  uint8              \n",
      " 22  job_status_Self-Employed          125322 non-null  uint8              \n",
      " 23  loan_use_Auto Purchase            125322 non-null  uint8              \n",
      " 24  loan_use_Business Expenses        125322 non-null  uint8              \n",
      " 25  loan_use_Credit Card Refinancing  125322 non-null  uint8              \n",
      " 26  loan_use_Credit card refinancing  125322 non-null  uint8              \n",
      " 27  loan_use_Debt Consolidation       125322 non-null  uint8              \n",
      " 28  loan_use_Debt consolidation       125322 non-null  uint8              \n",
      " 29  loan_use_Home Improvement         125322 non-null  uint8              \n",
      " 30  loan_use_Home improvement         125322 non-null  uint8              \n",
      " 31  loan_use_Major Purchase           125322 non-null  uint8              \n",
      " 32  loan_use_Medical Expenses         125322 non-null  uint8              \n",
      " 33  loan_use_Moving Expenses          125322 non-null  uint8              \n",
      " 34  loan_use_Other                    125322 non-null  uint8              \n",
      " 35  loan_use_Refi Cplus Loan          125322 non-null  uint8              \n",
      " 36  loan_use_Refi Fp Loan             125322 non-null  uint8              \n",
      " 37  loan_use_Travel/Vacation          125322 non-null  uint8              \n",
      " 38  loan_use_Wedding                  125322 non-null  uint8              \n",
      "dtypes: datetime64[ns, UTC](2), float64(4), int32(1), int64(7), object(2), timedelta64[ns](1), uint8(22)\n",
      "memory usage: 18.4+ MB\n"
     ]
    }
   ],
   "source": [
    "df_raw.info()"
   ]
  },
  {
   "cell_type": "code",
   "execution_count": 13,
   "id": "c5d07219",
   "metadata": {
    "scrolled": true
   },
   "outputs": [
    {
     "data": {
      "text/plain": [
       "Index(['lead_id', 'funded', 'created_datetime', 'assignment_datetime',\n",
       "       'loan_to_income', 'co_app_income', 'job_status', 'fico_score',\n",
       "       'loan_amount', 'loan_use', 'ndi_ratio', 'lead_source', 'open_accounts',\n",
       "       'clicked_offer', 'lead_age', 'lead_age_seconds', 'lead_age_class',\n",
       "       'job_status_Full-Time', 'job_status_Not Employed', 'job_status_Other',\n",
       "       'job_status_Part-Time', 'job_status_Retired',\n",
       "       'job_status_Self-Employed', 'loan_use_Auto Purchase',\n",
       "       'loan_use_Business Expenses', 'loan_use_Credit Card Refinancing',\n",
       "       'loan_use_Credit card refinancing', 'loan_use_Debt Consolidation',\n",
       "       'loan_use_Debt consolidation', 'loan_use_Home Improvement',\n",
       "       'loan_use_Home improvement', 'loan_use_Major Purchase',\n",
       "       'loan_use_Medical Expenses', 'loan_use_Moving Expenses',\n",
       "       'loan_use_Other', 'loan_use_Refi Cplus Loan', 'loan_use_Refi Fp Loan',\n",
       "       'loan_use_Travel/Vacation', 'loan_use_Wedding'],\n",
       "      dtype='object')"
      ]
     },
     "execution_count": 13,
     "metadata": {},
     "output_type": "execute_result"
    }
   ],
   "source": [
    "df_raw.columns"
   ]
  },
  {
   "cell_type": "code",
   "execution_count": 14,
   "id": "d1d109cb",
   "metadata": {},
   "outputs": [],
   "source": [
    "input_columns = [\n",
    "    'funded',\n",
    "    'loan_to_income',\n",
    "    'co_app_income',\n",
    "    'fico_score',\n",
    "    'loan_amount',\n",
    "    'ndi_ratio',\n",
    "    'lead_source', # this one is a little bit probmatic, since it may be a categorical variable\n",
    "    'open_accounts',\n",
    "    'clicked_offer',\n",
    "    'lead_age_seconds',\n",
    "    'lead_age_class', # Below are all one-hot coding features from the job_status and loan_use\n",
    "    'job_status_Full-Time', 'job_status_Not Employed', 'job_status_Other',\n",
    "    'job_status_Part-Time', 'job_status_Retired',\n",
    "    'job_status_Self-Employed', 'loan_use_Auto Purchase',\n",
    "    'loan_use_Business Expenses', 'loan_use_Credit Card Refinancing',\n",
    "    'loan_use_Credit card refinancing', 'loan_use_Debt Consolidation',\n",
    "    'loan_use_Debt consolidation', 'loan_use_Home Improvement',\n",
    "    'loan_use_Home improvement', 'loan_use_Major Purchase',\n",
    "    'loan_use_Medical Expenses', 'loan_use_Moving Expenses',\n",
    "    'loan_use_Other', 'loan_use_Refi Cplus Loan', 'loan_use_Refi Fp Loan',\n",
    "    'loan_use_Travel/Vacation', 'loan_use_Wedding'\n",
    "]\n"
   ]
  },
  {
   "cell_type": "code",
   "execution_count": 15,
   "id": "7d26aca1",
   "metadata": {},
   "outputs": [],
   "source": [
    "# define the input into the model based on selected features\n",
    "\n",
    "df_input = df_raw[input_columns]\n",
    "df_input.to_csv('test.csv')"
   ]
  },
  {
   "cell_type": "code",
   "execution_count": 16,
   "id": "b0af4e25",
   "metadata": {},
   "outputs": [],
   "source": [
    "feature_columns = [\n",
    "    'loan_to_income',\n",
    "    'co_app_income',\n",
    "    'fico_score',\n",
    "    'loan_amount',\n",
    "    'ndi_ratio',\n",
    "    'lead_source', # this one is a little bit probmatic, since it may be a categorical variable\n",
    "    'open_accounts',\n",
    "    'clicked_offer',\n",
    "    'lead_age_seconds',\n",
    "    'lead_age_class', # Below are all one-hot coding features from the job_status and loan_use\n",
    "    'job_status_Full-Time', 'job_status_Not Employed', 'job_status_Other',\n",
    "    'job_status_Part-Time', 'job_status_Retired',\n",
    "    'job_status_Self-Employed', 'loan_use_Auto Purchase',\n",
    "    'loan_use_Business Expenses', 'loan_use_Credit Card Refinancing',\n",
    "    'loan_use_Credit card refinancing', 'loan_use_Debt Consolidation',\n",
    "    'loan_use_Debt consolidation', 'loan_use_Home Improvement',\n",
    "    'loan_use_Home improvement', 'loan_use_Major Purchase',\n",
    "    'loan_use_Medical Expenses', 'loan_use_Moving Expenses',\n",
    "    'loan_use_Other', 'loan_use_Refi Cplus Loan', 'loan_use_Refi Fp Loan',\n",
    "    'loan_use_Travel/Vacation', 'loan_use_Wedding'\n",
    "]"
   ]
  },
  {
   "cell_type": "code",
   "execution_count": 17,
   "id": "bda2a276",
   "metadata": {},
   "outputs": [
    {
     "data": {
      "text/plain": [
       "array([0, 0, 0, ..., 0, 0, 0], dtype=int64)"
      ]
     },
     "execution_count": 17,
     "metadata": {},
     "output_type": "execute_result"
    }
   ],
   "source": [
    "\n",
    "Y = df_input['funded'].to_numpy() \n",
    "Y\n",
    "\n"
   ]
  },
  {
   "cell_type": "code",
   "execution_count": 18,
   "id": "925dd480",
   "metadata": {},
   "outputs": [
    {
     "data": {
      "text/html": [
       "<div>\n",
       "<style scoped>\n",
       "    .dataframe tbody tr th:only-of-type {\n",
       "        vertical-align: middle;\n",
       "    }\n",
       "\n",
       "    .dataframe tbody tr th {\n",
       "        vertical-align: top;\n",
       "    }\n",
       "\n",
       "    .dataframe thead th {\n",
       "        text-align: right;\n",
       "    }\n",
       "</style>\n",
       "<table border=\"1\" class=\"dataframe\">\n",
       "  <thead>\n",
       "    <tr style=\"text-align: right;\">\n",
       "      <th></th>\n",
       "      <th>loan_to_income</th>\n",
       "      <th>co_app_income</th>\n",
       "      <th>fico_score</th>\n",
       "      <th>loan_amount</th>\n",
       "      <th>ndi_ratio</th>\n",
       "      <th>lead_source</th>\n",
       "      <th>open_accounts</th>\n",
       "      <th>clicked_offer</th>\n",
       "      <th>lead_age_seconds</th>\n",
       "      <th>lead_age_class</th>\n",
       "      <th>...</th>\n",
       "      <th>loan_use_Home Improvement</th>\n",
       "      <th>loan_use_Home improvement</th>\n",
       "      <th>loan_use_Major Purchase</th>\n",
       "      <th>loan_use_Medical Expenses</th>\n",
       "      <th>loan_use_Moving Expenses</th>\n",
       "      <th>loan_use_Other</th>\n",
       "      <th>loan_use_Refi Cplus Loan</th>\n",
       "      <th>loan_use_Refi Fp Loan</th>\n",
       "      <th>loan_use_Travel/Vacation</th>\n",
       "      <th>loan_use_Wedding</th>\n",
       "    </tr>\n",
       "  </thead>\n",
       "  <tbody>\n",
       "    <tr>\n",
       "      <th>0</th>\n",
       "      <td>24.621212</td>\n",
       "      <td>0.0</td>\n",
       "      <td>668</td>\n",
       "      <td>32500</td>\n",
       "      <td>0.232132</td>\n",
       "      <td>0</td>\n",
       "      <td>8</td>\n",
       "      <td>0</td>\n",
       "      <td>363.0</td>\n",
       "      <td>2</td>\n",
       "      <td>...</td>\n",
       "      <td>0</td>\n",
       "      <td>0</td>\n",
       "      <td>0</td>\n",
       "      <td>0</td>\n",
       "      <td>0</td>\n",
       "      <td>0</td>\n",
       "      <td>0</td>\n",
       "      <td>0</td>\n",
       "      <td>0</td>\n",
       "      <td>0</td>\n",
       "    </tr>\n",
       "    <tr>\n",
       "      <th>1</th>\n",
       "      <td>20.000000</td>\n",
       "      <td>0.0</td>\n",
       "      <td>792</td>\n",
       "      <td>40000</td>\n",
       "      <td>0.146557</td>\n",
       "      <td>0</td>\n",
       "      <td>6</td>\n",
       "      <td>0</td>\n",
       "      <td>36109.0</td>\n",
       "      <td>4</td>\n",
       "      <td>...</td>\n",
       "      <td>0</td>\n",
       "      <td>0</td>\n",
       "      <td>0</td>\n",
       "      <td>0</td>\n",
       "      <td>0</td>\n",
       "      <td>1</td>\n",
       "      <td>0</td>\n",
       "      <td>0</td>\n",
       "      <td>0</td>\n",
       "      <td>0</td>\n",
       "    </tr>\n",
       "    <tr>\n",
       "      <th>2</th>\n",
       "      <td>27.272727</td>\n",
       "      <td>0.0</td>\n",
       "      <td>755</td>\n",
       "      <td>30000</td>\n",
       "      <td>0.510868</td>\n",
       "      <td>0</td>\n",
       "      <td>5</td>\n",
       "      <td>0</td>\n",
       "      <td>46972.0</td>\n",
       "      <td>4</td>\n",
       "      <td>...</td>\n",
       "      <td>1</td>\n",
       "      <td>0</td>\n",
       "      <td>0</td>\n",
       "      <td>0</td>\n",
       "      <td>0</td>\n",
       "      <td>0</td>\n",
       "      <td>0</td>\n",
       "      <td>0</td>\n",
       "      <td>0</td>\n",
       "      <td>0</td>\n",
       "    </tr>\n",
       "    <tr>\n",
       "      <th>3</th>\n",
       "      <td>34.965035</td>\n",
       "      <td>0.0</td>\n",
       "      <td>677</td>\n",
       "      <td>20000</td>\n",
       "      <td>0.457189</td>\n",
       "      <td>0</td>\n",
       "      <td>7</td>\n",
       "      <td>0</td>\n",
       "      <td>47963.0</td>\n",
       "      <td>4</td>\n",
       "      <td>...</td>\n",
       "      <td>0</td>\n",
       "      <td>0</td>\n",
       "      <td>0</td>\n",
       "      <td>0</td>\n",
       "      <td>0</td>\n",
       "      <td>0</td>\n",
       "      <td>0</td>\n",
       "      <td>0</td>\n",
       "      <td>0</td>\n",
       "      <td>0</td>\n",
       "    </tr>\n",
       "    <tr>\n",
       "      <th>4</th>\n",
       "      <td>18.666667</td>\n",
       "      <td>0.0</td>\n",
       "      <td>691</td>\n",
       "      <td>14000</td>\n",
       "      <td>0.470130</td>\n",
       "      <td>0</td>\n",
       "      <td>3</td>\n",
       "      <td>0</td>\n",
       "      <td>75744.0</td>\n",
       "      <td>5</td>\n",
       "      <td>...</td>\n",
       "      <td>0</td>\n",
       "      <td>0</td>\n",
       "      <td>0</td>\n",
       "      <td>0</td>\n",
       "      <td>0</td>\n",
       "      <td>1</td>\n",
       "      <td>0</td>\n",
       "      <td>0</td>\n",
       "      <td>0</td>\n",
       "      <td>0</td>\n",
       "    </tr>\n",
       "    <tr>\n",
       "      <th>...</th>\n",
       "      <td>...</td>\n",
       "      <td>...</td>\n",
       "      <td>...</td>\n",
       "      <td>...</td>\n",
       "      <td>...</td>\n",
       "      <td>...</td>\n",
       "      <td>...</td>\n",
       "      <td>...</td>\n",
       "      <td>...</td>\n",
       "      <td>...</td>\n",
       "      <td>...</td>\n",
       "      <td>...</td>\n",
       "      <td>...</td>\n",
       "      <td>...</td>\n",
       "      <td>...</td>\n",
       "      <td>...</td>\n",
       "      <td>...</td>\n",
       "      <td>...</td>\n",
       "      <td>...</td>\n",
       "      <td>...</td>\n",
       "      <td>...</td>\n",
       "    </tr>\n",
       "    <tr>\n",
       "      <th>125317</th>\n",
       "      <td>27.777778</td>\n",
       "      <td>72000.0</td>\n",
       "      <td>749</td>\n",
       "      <td>40000</td>\n",
       "      <td>0.518384</td>\n",
       "      <td>0</td>\n",
       "      <td>13</td>\n",
       "      <td>0</td>\n",
       "      <td>29612.0</td>\n",
       "      <td>4</td>\n",
       "      <td>...</td>\n",
       "      <td>0</td>\n",
       "      <td>0</td>\n",
       "      <td>0</td>\n",
       "      <td>0</td>\n",
       "      <td>0</td>\n",
       "      <td>0</td>\n",
       "      <td>0</td>\n",
       "      <td>0</td>\n",
       "      <td>0</td>\n",
       "      <td>0</td>\n",
       "    </tr>\n",
       "    <tr>\n",
       "      <th>125318</th>\n",
       "      <td>13.913043</td>\n",
       "      <td>0.0</td>\n",
       "      <td>622</td>\n",
       "      <td>16000</td>\n",
       "      <td>0.214386</td>\n",
       "      <td>11</td>\n",
       "      <td>9</td>\n",
       "      <td>0</td>\n",
       "      <td>79328.0</td>\n",
       "      <td>5</td>\n",
       "      <td>...</td>\n",
       "      <td>0</td>\n",
       "      <td>0</td>\n",
       "      <td>0</td>\n",
       "      <td>0</td>\n",
       "      <td>0</td>\n",
       "      <td>0</td>\n",
       "      <td>0</td>\n",
       "      <td>0</td>\n",
       "      <td>0</td>\n",
       "      <td>0</td>\n",
       "    </tr>\n",
       "    <tr>\n",
       "      <th>125319</th>\n",
       "      <td>21.686747</td>\n",
       "      <td>0.0</td>\n",
       "      <td>812</td>\n",
       "      <td>18000</td>\n",
       "      <td>0.304768</td>\n",
       "      <td>17</td>\n",
       "      <td>24</td>\n",
       "      <td>0</td>\n",
       "      <td>21.0</td>\n",
       "      <td>1</td>\n",
       "      <td>...</td>\n",
       "      <td>0</td>\n",
       "      <td>0</td>\n",
       "      <td>0</td>\n",
       "      <td>0</td>\n",
       "      <td>0</td>\n",
       "      <td>0</td>\n",
       "      <td>0</td>\n",
       "      <td>0</td>\n",
       "      <td>0</td>\n",
       "      <td>0</td>\n",
       "    </tr>\n",
       "    <tr>\n",
       "      <th>125320</th>\n",
       "      <td>14.285714</td>\n",
       "      <td>0.0</td>\n",
       "      <td>654</td>\n",
       "      <td>10000</td>\n",
       "      <td>0.417938</td>\n",
       "      <td>0</td>\n",
       "      <td>3</td>\n",
       "      <td>0</td>\n",
       "      <td>353128.0</td>\n",
       "      <td>5</td>\n",
       "      <td>...</td>\n",
       "      <td>0</td>\n",
       "      <td>0</td>\n",
       "      <td>0</td>\n",
       "      <td>0</td>\n",
       "      <td>0</td>\n",
       "      <td>1</td>\n",
       "      <td>0</td>\n",
       "      <td>0</td>\n",
       "      <td>0</td>\n",
       "      <td>0</td>\n",
       "    </tr>\n",
       "    <tr>\n",
       "      <th>125321</th>\n",
       "      <td>18.518519</td>\n",
       "      <td>0.0</td>\n",
       "      <td>786</td>\n",
       "      <td>10000</td>\n",
       "      <td>0.330590</td>\n",
       "      <td>1</td>\n",
       "      <td>9</td>\n",
       "      <td>1</td>\n",
       "      <td>4108.0</td>\n",
       "      <td>3</td>\n",
       "      <td>...</td>\n",
       "      <td>0</td>\n",
       "      <td>0</td>\n",
       "      <td>0</td>\n",
       "      <td>0</td>\n",
       "      <td>0</td>\n",
       "      <td>1</td>\n",
       "      <td>0</td>\n",
       "      <td>0</td>\n",
       "      <td>0</td>\n",
       "      <td>0</td>\n",
       "    </tr>\n",
       "  </tbody>\n",
       "</table>\n",
       "<p>125322 rows × 32 columns</p>\n",
       "</div>"
      ],
      "text/plain": [
       "        loan_to_income  co_app_income  fico_score  loan_amount  ndi_ratio  \\\n",
       "0            24.621212            0.0         668        32500   0.232132   \n",
       "1            20.000000            0.0         792        40000   0.146557   \n",
       "2            27.272727            0.0         755        30000   0.510868   \n",
       "3            34.965035            0.0         677        20000   0.457189   \n",
       "4            18.666667            0.0         691        14000   0.470130   \n",
       "...                ...            ...         ...          ...        ...   \n",
       "125317       27.777778        72000.0         749        40000   0.518384   \n",
       "125318       13.913043            0.0         622        16000   0.214386   \n",
       "125319       21.686747            0.0         812        18000   0.304768   \n",
       "125320       14.285714            0.0         654        10000   0.417938   \n",
       "125321       18.518519            0.0         786        10000   0.330590   \n",
       "\n",
       "        lead_source  open_accounts  clicked_offer  lead_age_seconds  \\\n",
       "0                 0              8              0             363.0   \n",
       "1                 0              6              0           36109.0   \n",
       "2                 0              5              0           46972.0   \n",
       "3                 0              7              0           47963.0   \n",
       "4                 0              3              0           75744.0   \n",
       "...             ...            ...            ...               ...   \n",
       "125317            0             13              0           29612.0   \n",
       "125318           11              9              0           79328.0   \n",
       "125319           17             24              0              21.0   \n",
       "125320            0              3              0          353128.0   \n",
       "125321            1              9              1            4108.0   \n",
       "\n",
       "        lead_age_class  ...  loan_use_Home Improvement  \\\n",
       "0                    2  ...                          0   \n",
       "1                    4  ...                          0   \n",
       "2                    4  ...                          1   \n",
       "3                    4  ...                          0   \n",
       "4                    5  ...                          0   \n",
       "...                ...  ...                        ...   \n",
       "125317               4  ...                          0   \n",
       "125318               5  ...                          0   \n",
       "125319               1  ...                          0   \n",
       "125320               5  ...                          0   \n",
       "125321               3  ...                          0   \n",
       "\n",
       "        loan_use_Home improvement  loan_use_Major Purchase  \\\n",
       "0                               0                        0   \n",
       "1                               0                        0   \n",
       "2                               0                        0   \n",
       "3                               0                        0   \n",
       "4                               0                        0   \n",
       "...                           ...                      ...   \n",
       "125317                          0                        0   \n",
       "125318                          0                        0   \n",
       "125319                          0                        0   \n",
       "125320                          0                        0   \n",
       "125321                          0                        0   \n",
       "\n",
       "        loan_use_Medical Expenses  loan_use_Moving Expenses  loan_use_Other  \\\n",
       "0                               0                         0               0   \n",
       "1                               0                         0               1   \n",
       "2                               0                         0               0   \n",
       "3                               0                         0               0   \n",
       "4                               0                         0               1   \n",
       "...                           ...                       ...             ...   \n",
       "125317                          0                         0               0   \n",
       "125318                          0                         0               0   \n",
       "125319                          0                         0               0   \n",
       "125320                          0                         0               1   \n",
       "125321                          0                         0               1   \n",
       "\n",
       "        loan_use_Refi Cplus Loan  loan_use_Refi Fp Loan  \\\n",
       "0                              0                      0   \n",
       "1                              0                      0   \n",
       "2                              0                      0   \n",
       "3                              0                      0   \n",
       "4                              0                      0   \n",
       "...                          ...                    ...   \n",
       "125317                         0                      0   \n",
       "125318                         0                      0   \n",
       "125319                         0                      0   \n",
       "125320                         0                      0   \n",
       "125321                         0                      0   \n",
       "\n",
       "        loan_use_Travel/Vacation  loan_use_Wedding  \n",
       "0                              0                 0  \n",
       "1                              0                 0  \n",
       "2                              0                 0  \n",
       "3                              0                 0  \n",
       "4                              0                 0  \n",
       "...                          ...               ...  \n",
       "125317                         0                 0  \n",
       "125318                         0                 0  \n",
       "125319                         0                 0  \n",
       "125320                         0                 0  \n",
       "125321                         0                 0  \n",
       "\n",
       "[125322 rows x 32 columns]"
      ]
     },
     "execution_count": 18,
     "metadata": {},
     "output_type": "execute_result"
    }
   ],
   "source": [
    "X = df_input[feature_columns]\n",
    "X"
   ]
  },
  {
   "cell_type": "code",
   "execution_count": 19,
   "id": "6994a9d0",
   "metadata": {},
   "outputs": [
    {
     "data": {
      "text/plain": [
       "array([[ 0.10960201, -0.02128867, -0.93863921, ..., -0.01852657,\n",
       "        -0.03967903, -0.05161622],\n",
       "       [-0.39005172, -0.02128867,  1.35305638, ..., -0.01852657,\n",
       "        -0.03967903, -0.05161622],\n",
       "       [ 0.39628857, -0.02128867,  0.66924399, ..., -0.01852657,\n",
       "        -0.03967903, -0.05161622],\n",
       "       ...,\n",
       "       [-0.20767761, -0.02128867,  1.7226847 , ..., -0.01852657,\n",
       "        -0.03967903, -0.05161622],\n",
       "       [-1.00789052, -0.02128867, -1.19737904, ..., -0.01852657,\n",
       "        -0.03967903, -0.05161622],\n",
       "       [-0.55023215, -0.02128867,  1.24216788, ..., -0.01852657,\n",
       "        -0.03967903, -0.05161622]])"
      ]
     },
     "execution_count": 19,
     "metadata": {},
     "output_type": "execute_result"
    }
   ],
   "source": [
    "# Standardize input data X\n",
    "transform = preprocessing.StandardScaler()\n",
    "X = transform.fit_transform(X)\n",
    "X\n",
    "\n"
   ]
  },
  {
   "cell_type": "markdown",
   "id": "68dc7d96",
   "metadata": {},
   "source": [
    "### Study the correlation and coliniarity"
   ]
  },
  {
   "cell_type": "code",
   "execution_count": 20,
   "id": "88492039",
   "metadata": {},
   "outputs": [
    {
     "data": {
      "text/plain": [
       "<AxesSubplot:>"
      ]
     },
     "execution_count": 20,
     "metadata": {},
     "output_type": "execute_result"
    },
    {
     "data": {
      "image/png": "[encoded data removed]",
      "text/plain": [
       "<Figure size 864x576 with 2 Axes>"
      ]
     },
     "metadata": {
      "needs_background": "light"
     },
     "output_type": "display_data"
    }
   ],
   "source": [
    "corr = df_input.iloc[:,0:10].corr()\n",
    "fig, ax = plt.subplots(figsize=(12,8)) \n",
    "sns.heatmap(corr, cmap=\"coolwarm\", annot=True)"
   ]
  },
  {
   "cell_type": "code",
   "execution_count": 21,
   "id": "667ee1ee",
   "metadata": {},
   "outputs": [
    {
     "data": {
      "text/plain": [
       "<AxesSubplot:>"
      ]
     },
     "execution_count": 21,
     "metadata": {},
     "output_type": "execute_result"
    },
    {
     "data": {
      "image/png": "[encoded data removed]",
      "text/plain": [
       "<Figure size 864x576 with 2 Axes>"
      ]
     },
     "metadata": {
      "needs_background": "light"
     },
     "output_type": "display_data"
    }
   ],
   "source": [
    "lower_triang_df = corr.where(np.tril(np.ones(corr.shape)).astype(np.bool))\n",
    "fig, ax = plt.subplots(figsize=(12,8)) \n",
    "sns.heatmap(lower_triang_df, cmap=\"coolwarm\", annot=True)\n",
    "\n"
   ]
  },
  {
   "cell_type": "code",
   "execution_count": 22,
   "id": "b4aa7b8e",
   "metadata": {},
   "outputs": [],
   "source": [
    "# the coliarity problem is minor"
   ]
  },
  {
   "cell_type": "markdown",
   "id": "3ed6363e",
   "metadata": {},
   "source": [
    "### Train-Validation-Test split"
   ]
  },
  {
   "cell_type": "code",
   "execution_count": 23,
   "id": "989924b9",
   "metadata": {},
   "outputs": [
    {
     "name": "stdout",
     "output_type": "stream",
     "text": [
      "(100257, 32)\n",
      "(25065, 32)\n",
      "(100257,)\n",
      "(25065,)\n",
      "****************************************************************************************************\n",
      "make sure the data is nearly stratified, to avoid unbalanced train and test data\n",
      "7202\n",
      "1794\n",
      "here seems the train and test true labels are porportionally to its total size, good to go!\n"
     ]
    }
   ],
   "source": [
    "# split train and test dataset\n",
    "### Since we are going to test several different model, we are going to split the data\n",
    "### into 80% and 20% split\n",
    "\n",
    "\n",
    "\n",
    "X_train, X_test, Y_train, Y_test = train_test_split(X, Y, test_size=0.2, random_state=2)\n",
    "\n",
    "print(X_train.shape)\n",
    "print(X_test.shape)\n",
    "print(Y_train.shape)\n",
    "print(Y_test.shape)\n",
    "print('*'*100)\n",
    "print('make sure the data is nearly stratified, to avoid unbalanced train and test data')\n",
    "print(sum(Y_train))\n",
    "print(sum(Y_test))\n",
    "print('here seems the train and test true labels are porportionally to its total size, good to go!')"
   ]
  },
  {
   "cell_type": "markdown",
   "id": "b6ddcc99",
   "metadata": {},
   "source": [
    "### Dummy Classifier to test imbalnaced dataset"
   ]
  },
  {
   "cell_type": "code",
   "execution_count": 24,
   "id": "c464c25b",
   "metadata": {},
   "outputs": [
    {
     "name": "stdout",
     "output_type": "stream",
     "text": [
      "y actual : \n",
      "0    23271\n",
      "1     1794\n",
      "dtype: int64\n",
      "y predicted : \n",
      "0    25065\n",
      "dtype: int64\n"
     ]
    }
   ],
   "source": [
    "#Dummy Classifier\n",
    "from sklearn.dummy import DummyClassifier\n",
    "clf = DummyClassifier(strategy= 'most_frequent').fit(X_train,Y_train)\n",
    "Y_pred = clf.predict(X_test)\n",
    "\n",
    "#Distribution of y test\n",
    "print('y actual : \\n' +  str(pd.Series(Y_test).value_counts()))\n",
    "\n",
    "#Distribution of y predicted\n",
    "print('y predicted : \\n' + str(pd.Series(Y_pred).value_counts()))"
   ]
  },
  {
   "cell_type": "code",
   "execution_count": 25,
   "id": "32210b0d",
   "metadata": {},
   "outputs": [
    {
     "name": "stdout",
     "output_type": "stream",
     "text": [
      "Accuracy Score : 0.928426092160383\n",
      "Precision Score : 0.0\n",
      "Recall Score : 0.0\n",
      "F1 Score : 0.0\n",
      "Confusion Matrix : \n",
      "[[23271     0]\n",
      " [ 1794     0]]\n"
     ]
    }
   ],
   "source": [
    "# Model Evaluation metrics \n",
    "from sklearn.metrics import accuracy_score,recall_score,precision_score,f1_score\n",
    "print('Accuracy Score : ' + str(accuracy_score(Y_test,Y_pred)))\n",
    "print('Precision Score : ' + str(precision_score(Y_test,Y_pred)))\n",
    "print('Recall Score : ' + str(recall_score(Y_test,Y_pred)))\n",
    "print('F1 Score : ' + str(f1_score(Y_test,Y_pred)))\n",
    "\n",
    "#Dummy Classifier Confusion matrix\n",
    "from sklearn.metrics import confusion_matrix\n",
    "print('Confusion Matrix : \\n' + str(confusion_matrix(Y_test,Y_pred)))\n",
    "\n",
    "# this means that if we assume everything is 0, the accuracy is 92.8% not very helpful "
   ]
  },
  {
   "cell_type": "markdown",
   "id": "21dbed1f",
   "metadata": {},
   "source": [
    "### Train the logistic regression"
   ]
  },
  {
   "cell_type": "code",
   "execution_count": 50,
   "id": "8519f1df",
   "metadata": {},
   "outputs": [],
   "source": [
    "parameters ={'C':[0.01,0.1,0.5,1,3,5,7,9],\n",
    "             'penalty':['l2'],\n",
    "             'solver':['lbfgs']}"
   ]
  },
  {
   "cell_type": "code",
   "execution_count": 51,
   "id": "f2b16e8c",
   "metadata": {},
   "outputs": [],
   "source": [
    "parameters ={\"C\":[0.01,0.1,1,10],'penalty':['l2'], 'solver':['lbfgs']}# l1 lasso l2 ridge\n",
    "lr=LogisticRegression()\n",
    "gscv = GridSearchCV(lr, parameters, scoring='roc_auc', cv=5)\n",
    "logreg_cv = gscv.fit(X_train,Y_train)"
   ]
  },
  {
   "cell_type": "code",
   "execution_count": 52,
   "id": "d10ca083",
   "metadata": {},
   "outputs": [
    {
     "name": "stdout",
     "output_type": "stream",
     "text": [
      "tuned hpyerparameters :(best parameters)  {'C': 0.01, 'penalty': 'l2', 'solver': 'lbfgs'}\n",
      "accuracy : 0.7553560152641429\n"
     ]
    }
   ],
   "source": [
    "print(\"tuned hpyerparameters :(best parameters) \",logreg_cv.best_params_)\n",
    "print(\"accuracy :\",logreg_cv.best_score_)"
   ]
  },
  {
   "cell_type": "markdown",
   "id": "65dbc2f5",
   "metadata": {},
   "source": [
    "### Test the logistic regression"
   ]
  },
  {
   "cell_type": "code",
   "execution_count": 53,
   "id": "9fc6fd9c",
   "metadata": {},
   "outputs": [],
   "source": [
    "\n",
    "# confusion matrix to be used\n",
    "def plot_confusion_matrix(y,y_predict):\n",
    "    \"this function plots the confusion matrix\"\n",
    "    from sklearn.metrics import confusion_matrix\n",
    "\n",
    "    cm = confusion_matrix(y, y_predict)\n",
    "    ax= plt.subplot()\n",
    "    sns.heatmap(cm, annot=True, ax = ax); #annot=True to annotate cells\n",
    "    ax.set_xlabel('Predicted labels')\n",
    "    ax.set_ylabel('True labels')\n",
    "    ax.set_title('Confusion Matrix'); \n",
    "    ax.xaxis.set_ticklabels(['Not Closed', 'Closed']); ax.yaxis.set_ticklabels(['Not Closed', 'Closed'])"
   ]
  },
  {
   "cell_type": "code",
   "execution_count": 54,
   "id": "1e68db4f",
   "metadata": {},
   "outputs": [
    {
     "name": "stdout",
     "output_type": "stream",
     "text": [
      "Accuracy for LR on Test Data with best parameter=   0.7549038911258729\n"
     ]
    }
   ],
   "source": [
    "print('Accuracy for LR on Test Data with best parameter=  ',logreg_cv.score(X_test,Y_test))"
   ]
  },
  {
   "cell_type": "code",
   "execution_count": 59,
   "id": "82ab79b9",
   "metadata": {},
   "outputs": [
    {
     "name": "stdout",
     "output_type": "stream",
     "text": [
      "Best Threshold=0.068440, G-Mean=0.691\n"
     ]
    },
    {
     "data": {
      "image/png": "[encoded data removed]",
      "text/plain": [
       "<Figure size 432x288 with 1 Axes>"
      ]
     },
     "metadata": {
      "needs_background": "light"
     },
     "output_type": "display_data"
    },
    {
     "name": "stdout",
     "output_type": "stream",
     "text": [
      "Best Threshold=0.068440, G-Mean=0.691\n"
     ]
    }
   ],
   "source": [
    "# lr_probs = pred_proba[:, 1]\n",
    "# lr_probs\n",
    "from sklearn.metrics import roc_curve\n",
    "from matplotlib import pyplot\n",
    "\n",
    "pred_proba = logreg_cv.predict_proba(X_test)\n",
    "\n",
    "yhat = pred_proba[:, 1]\n",
    "# calculate roc curves\n",
    "fpr, tpr, thresholds = roc_curve(Y_test, yhat)\n",
    "# calculate the g-mean for each threshold\n",
    "gmeans = np.sqrt(tpr * (1-fpr))\n",
    "# locate the index of the largest g-mean\n",
    "ix = np.argmax(gmeans)\n",
    "print('Best Threshold=%f, G-Mean=%.3f' % (thresholds[ix], gmeans[ix]))\n",
    "# plot the roc curve for the model\n",
    "pyplot.plot([0,1], [0,1], linestyle='--', label='No Skill')\n",
    "pyplot.plot(fpr, tpr, marker='.', label='Logistic')\n",
    "pyplot.scatter(fpr[ix], tpr[ix], marker='o', color='black', label='Best')\n",
    "# axis labels\n",
    "pyplot.xlabel('False Positive Rate')\n",
    "pyplot.ylabel('True Positive Rate')\n",
    "pyplot.legend()\n",
    "# show the plot\n",
    "pyplot.show()\n",
    "\n",
    "# locate the index of the largest g-mean\n",
    "print('Best Threshold=%f, G-Mean=%.3f' % (thresholds[ix], gmeans[ix]))"
   ]
  },
  {
   "cell_type": "code",
   "execution_count": 60,
   "id": "a8cc1389",
   "metadata": {},
   "outputs": [
    {
     "name": "stdout",
     "output_type": "stream",
     "text": [
      "Accuracy Score : 0.6981448234590066\n",
      "Precision Score : 0.14881966415186176\n",
      "Recall Score : 0.6817168338907469\n",
      "F1 Score : 0.2443068318018378\n"
     ]
    },
    {
     "data": {
      "image/png": "[encoded data removed]",
      "text/plain": [
       "<Figure size 432x288 with 2 Axes>"
      ]
     },
     "metadata": {
      "needs_background": "light"
     },
     "output_type": "display_data"
    }
   ],
   "source": [
    "\n",
    "# cannot use yhat=logreg_cv.predict(X_test) because the \n",
    "# threshold 0.5 is too low\n",
    "\n",
    "threshold = 0.068530\n",
    "\n",
    "yhat = []\n",
    "\n",
    "for pred in pred_proba:\n",
    "    # print(pred[1])\n",
    "    if pred[1] > threshold:\n",
    "        yhat.append(1)\n",
    "    else:\n",
    "        yhat.append(0)\n",
    "    \n",
    "\n",
    "yhat = np.array(yhat)\n",
    "\n",
    "\n",
    "plot_confusion_matrix(Y_test,yhat)\n",
    "\n",
    "print('Accuracy Score : ' + str(accuracy_score(Y_test,yhat)))\n",
    "print('Precision Score : ' + str(precision_score(Y_test,yhat)))\n",
    "print('Recall Score : ' + str(recall_score(Y_test,yhat)))\n",
    "print('F1 Score : ' + str(f1_score(Y_test,yhat)))"
   ]
  },
  {
   "cell_type": "code",
   "execution_count": 61,
   "id": "c7dbe142",
   "metadata": {},
   "outputs": [],
   "source": [
    "# with the threshold = 0.068530\n",
    "# we find the best balanced results with good recall and f1-score \n"
   ]
  },
  {
   "cell_type": "code",
   "execution_count": 62,
   "id": "ed29f197",
   "metadata": {},
   "outputs": [
    {
     "data": {
      "image/png": "[encoded data removed]",
      "text/plain": [
       "<Figure size 432x288 with 1 Axes>"
      ]
     },
     "metadata": {
      "needs_background": "light"
     },
     "output_type": "display_data"
    }
   ],
   "source": [
    "# this is the lead_age_second \n",
    "\n",
    "lead_age_second = X_test[:,8]\n",
    "\n",
    "yhat = pred_proba[:, 1]\n",
    "\n",
    "\n",
    "pyplot.scatter(lead_age_second, yhat, marker='o', color='black')\n",
    "pyplot.xlabel('lead_age_s')\n",
    "pyplot.ylabel('close_rate')\n",
    "\n",
    "pyplot.show()"
   ]
  }
 ],
 "metadata": {
  "kernelspec": {
   "display_name": "Python 3",
   "language": "python",
   "name": "python3"
  },
  "language_info": {
   "codemirror_mode": {
    "name": "ipython",
    "version": 3
   },
   "file_extension": ".py",
   "mimetype": "text/x-python",
   "name": "python",
   "nbconvert_exporter": "python",
   "pygments_lexer": "ipython3",
   "version": "3.8.8"
  }
 },
 "nbformat": 4,
 "nbformat_minor": 5
}
